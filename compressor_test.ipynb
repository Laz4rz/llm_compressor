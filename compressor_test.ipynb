{
 "cells": [
  {
   "cell_type": "code",
   "execution_count": 12,
   "metadata": {},
   "outputs": [],
   "source": [
    "text = \"Embrace the journey, for every step forward shapes the path that lies ahead. The road may twist and turn, but with curiosity and courage, you’ll discover opportunities hidden in the most unexpected places. Stay bold in your dreams and steady in your actions, letting each choice echo the vision of the future you wish to create. Remember, growth lies not in the destination but in the lessons learned along the way.\""
   ]
  },
  {
   "cell_type": "code",
   "execution_count": 13,
   "metadata": {},
   "outputs": [
    {
     "name": "stderr",
     "output_type": "stream",
     "text": [
      "Special tokens have been added in the vocabulary, make sure the associated word embeddings are fine-tuned or trained.\n"
     ]
    }
   ],
   "source": [
    "import sys\n",
    "import os\n",
    "sys.path.append(os.getcwd())\n",
    "from compressor import Compressor\n",
    "\n",
    "compressor = Compressor()"
   ]
  },
  {
   "cell_type": "code",
   "execution_count": 14,
   "metadata": {},
   "outputs": [
    {
     "name": "stdout",
     "output_type": "stream",
     "text": [
      "[52548, 1794, 0, 0]\n",
      "abracadabra\n"
     ]
    }
   ],
   "source": [
    "test = \"abracadabra\"\n",
    "compressed = compressor.rank_encode(test)\n",
    "print(compressed)\n",
    "decompressed = compressor.rank_decode(compressed)\n",
    "print(decompressed)"
   ]
  },
  {
   "cell_type": "code",
   "execution_count": 15,
   "metadata": {},
   "outputs": [],
   "source": [
    "ranks = compressor.rank_encode(text)"
   ]
  },
  {
   "cell_type": "code",
   "execution_count": 16,
   "metadata": {},
   "outputs": [
    {
     "name": "stdout",
     "output_type": "stream",
     "text": [
      "['110111100001000', '10010', '0', '101100', '1011', '1111', '1001', '0', '0', '10010011', '0', '1', '1001', '10', '0', '0', '1', '1', '11', '110', '0', '0', '0', '0', '101', '100010', '0', '1010', '0', '1', '101', '1', '1111', '10010', '1', '10', '1', '1', '0', '0', '10010', '111110', '10', '0', '10', '1', '11011000', '10', '0', '101100', '0', '100100', '1000', '10001', '1001010', '100', '10111101', '1', '10', '0', '10', '111', '0', '0', '0', '1', '0', '10001', '110', '10', '0', '0', '10', '0', '0', '0', '101100011', '0', '0', '0', '0', '0']\n"
     ]
    }
   ],
   "source": [
    "ranks_in_bits = [format(rank, 'b') for rank in ranks]\n",
    "print(ranks_in_bits)"
   ]
  },
  {
   "cell_type": "code",
   "execution_count": 17,
   "metadata": {},
   "outputs": [
    {
     "data": {
      "text/plain": [
       "151643"
      ]
     },
     "execution_count": 17,
     "metadata": {},
     "output_type": "execute_result"
    }
   ],
   "source": [
    "compressor.tokenizer.vocab_size"
   ]
  },
  {
   "cell_type": "code",
   "execution_count": 18,
   "metadata": {},
   "outputs": [
    {
     "data": {
      "text/plain": [
       "18"
      ]
     },
     "execution_count": 18,
     "metadata": {},
     "output_type": "execute_result"
    }
   ],
   "source": [
    "len(format(compressor.tokenizer.vocab_size, 'b'))"
   ]
  },
  {
   "cell_type": "code",
   "execution_count": 24,
   "metadata": {},
   "outputs": [
    {
     "name": "stdout",
     "output_type": "stream",
     "text": [
      "01111110111100001000001011001000001000110101100001001011001001111001001001000010000010010001001001100001000001100100100100010100000100000100000110000110001011000111100000100000100000100000100001110100110100010000010001001010000010000011000111010000110010011110010110010000011000101000001100001100001000001000101100100011011111000010100000100001010000011010001101100000010100000100011010110000001000110100100001001000001011000100111100101000011100010001011110100001100010100000100001010000111110000100000100000100000110000100010110001000111100001010000010000010000101000001000001000001001001101100011000010000010000010000010000010\n",
      "['110111100001000', '10010', '0', '101100', '1011', '1111', '1001', '0', '0', '10010011', '0', '1', '1001', '10', '0', '0', '1', '1', '11', '110', '0', '0', '0', '0', '101', '100010', '0', '1010', '0', '1', '101', '1', '1111', '10010', '1', '10', '1', '1', '0', '0', '10010', '111110', '10', '0', '10', '1', '11011000', '10', '0', '101100', '0', '100100', '1000', '10001', '1001010', '100', '10111101', '1', '10', '0', '10', '111', '0', '0', '0', '1', '0', '10001', '110', '10', '0', '0', '10', '0', '0', '0', '101100011', '0', '0', '0', '0', '0']\n",
      "Number of bits for original text: 417\n",
      "Number of bits for compressed text: 629\n",
      "Number of bits for original text compressed with zlib: 265\n",
      "Number of bits for ranks compressed with zlib: 126\n",
      "Number of bits for ranks with delimiters compressed with zlib: 95\n",
      "BPB for original compressed text: 5.108433734939759\n",
      "BPB for rank compressed text with length prefix: 2.4289156626506023\n",
      "BPB for rank compressed text with delimiters: 1.8313253012048192\n",
      "[28424, 18, 0, 44, 11, 15, 9, 0, 0, 147, 0, 1, 9, 2, 0, 0, 1, 1, 3, 6, 0, 0, 0, 0, 5, 34, 0, 10, 0, 1, 5, 1, 15, 18, 1, 2, 1, 1, 0, 0, 18, 62, 2, 0, 2, 1, 216, 2, 0, 44, 0, 36, 8, 17, 74, 4, 189, 1, 2, 0, 2, 7, 0, 0, 0, 1, 0, 17, 6, 2, 0, 0, 2, 0, 0, 0, 355, 0, 0, 0, 0, 0]\n"
     ]
    }
   ],
   "source": [
    "def encode_with_length_prefix(sequences):\n",
    "    encoded = \"\"\n",
    "    for seq in sequences:\n",
    "        length = len(seq)\n",
    "        length_prefix = f\"{length:05b}\"\n",
    "        encoded += length_prefix + seq\n",
    "    return encoded\n",
    "\n",
    "def decode_with_length_prefix(encoded):\n",
    "    sequences = []\n",
    "    i = 0\n",
    "    while i < len(encoded):\n",
    "        # Read the 5-bit length prefix\n",
    "        length = int(encoded[i:i+5], 2)\n",
    "        i += 5\n",
    "        # Extract the sequence\n",
    "        sequence = encoded[i:i+length]\n",
    "        sequences.append(sequence)\n",
    "        i += length\n",
    "    return sequences\n",
    "\n",
    "encoded = encode_with_length_prefix(ranks_in_bits)\n",
    "print(encoded)\n",
    "decoded = decode_with_length_prefix(encoded)\n",
    "print(decoded)\n",
    "assert decoded == ranks_in_bits\n",
    "\n",
    "print(\"Number of bits for original text:\", len(text.encode('utf-8')))\n",
    "print(\"Number of bits for compressed text:\", len(encoded))\n",
    "\n",
    "import zlib\n",
    "text_compress = zlib.compress(text.encode('utf-8'), 9)\n",
    "ranks_compress = zlib.compress(encoded.encode('utf-8'), 9)\n",
    "ranks_delimited_compress = zlib.compress(\" \".join(ranks_in_bits).encode('utf-8'), 9)\n",
    "print(\"Number of bits for original text compressed with zlib:\", len(text_compress))\n",
    "print(\"Number of bits for ranks compressed with zlib:\", len(ranks_compress))\n",
    "print(\"Number of bits for ranks with delimiters compressed with zlib:\", len(ranks_delimited_compress))\n",
    "\n",
    "print(\"BPB for original compressed text:\", len(text_compress) * 8 / len(text))\n",
    "print(\"BPB for rank compressed text with length prefix:\", len(ranks_compress) * 8 / len(text))\n",
    "print(\"BPB for rank compressed text with delimiters:\", len(ranks_delimited_compress) * 8 / len(text))\n",
    "\n",
    "ranks_decoded = [int(i, 2)  for i in zlib.decompress(ranks_delimited_compress).decode('utf-8').split(\" \")]\n",
    "print(ranks_decoded)"
   ]
  },
  {
   "cell_type": "code",
   "execution_count": null,
   "metadata": {},
   "outputs": [],
   "source": []
  },
  {
   "cell_type": "code",
   "execution_count": null,
   "metadata": {},
   "outputs": [],
   "source": []
  }
 ],
 "metadata": {
  "kernelspec": {
   "display_name": "base",
   "language": "python",
   "name": "python3"
  },
  "language_info": {
   "codemirror_mode": {
    "name": "ipython",
    "version": 3
   },
   "file_extension": ".py",
   "mimetype": "text/x-python",
   "name": "python",
   "nbconvert_exporter": "python",
   "pygments_lexer": "ipython3",
   "version": "3.11.6"
  }
 },
 "nbformat": 4,
 "nbformat_minor": 2
}
